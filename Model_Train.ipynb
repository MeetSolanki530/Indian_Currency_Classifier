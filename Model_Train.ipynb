{
 "cells": [
  {
   "cell_type": "code",
   "execution_count": 1,
   "id": "b2c1f34b-aab1-4664-be37-b06f45fe98ce",
   "metadata": {},
   "outputs": [],
   "source": [
    "from tensorflow.keras.preprocessing.image import ImageDataGenerator\n",
    "import os\n",
    "from tensorflow.keras.layers import Dense,Conv2D,MaxPool2D,Dropout,Flatten #,BatchNormalization\n",
    "# from tensorflow.keras.regularizers import l2\n",
    "from tensorflow.keras.models import Sequential\n",
    "from tensorflow.keras.callbacks import ModelCheckpoint\n",
    "import matplotlib.pyplot as plt\n",
    "from sklearn.metrics import confusion_matrix, classification_report\n",
    "import seaborn as sns"
   ]
  },
  {
   "cell_type": "code",
   "execution_count": 2,
   "id": "d44385d4-1037-4c39-baf0-944df11b37d9",
   "metadata": {},
   "outputs": [],
   "source": [
    "width,height = 150,150"
   ]
  },
  {
   "cell_type": "code",
   "execution_count": 3,
   "id": "f52385aa-48f8-4fca-b897-b9ff2513933e",
   "metadata": {},
   "outputs": [],
   "source": [
    "data_directory = r'C:\\Users\\solan\\Downloads\\Indian Notes Currency Classifier\\data' "
   ]
  },
  {
   "cell_type": "code",
   "execution_count": 4,
   "id": "55080b59-f36f-4999-a996-020980e37c1b",
   "metadata": {},
   "outputs": [],
   "source": [
    "data_generation = ImageDataGenerator(rescale=1./255,\n",
    "                                     rotation_range=20,\n",
    "                                    width_shift_range=0.2,\n",
    "                                    height_shift_range=0.2,\n",
    "                                    horizontal_flip=True,\n",
    "                                    vertical_flip=True,\n",
    "                                    validation_split=0.2)"
   ]
  },
  {
   "cell_type": "code",
   "execution_count": 5,
   "id": "3fb99d53-6227-4c1c-a111-e100c8195e14",
   "metadata": {},
   "outputs": [
    {
     "name": "stdout",
     "output_type": "stream",
     "text": [
      "Found 840 images belonging to 7 classes.\n"
     ]
    }
   ],
   "source": [
    "train_data = data_generation.flow_from_directory(\n",
    "    data_directory,\n",
    "    target_size=(height, width),\n",
    "    batch_size=32,\n",
    "    class_mode='categorical',\n",
    "    subset='training'\n",
    ")"
   ]
  },
  {
   "cell_type": "code",
   "execution_count": 6,
   "id": "f0010c37-b90d-4b4c-8ec5-dae12d4e4797",
   "metadata": {},
   "outputs": [
    {
     "name": "stdout",
     "output_type": "stream",
     "text": [
      "{'10': 0, '100': 1, '20': 2, '200': 3, '2000': 4, '50': 5, '500': 6}\n"
     ]
    }
   ],
   "source": [
    "class_indices = train_data.class_indices\n",
    "print(class_indices)"
   ]
  },
  {
   "cell_type": "code",
   "execution_count": 7,
   "id": "3e6a489c-474c-4802-8400-82bf83951317",
   "metadata": {},
   "outputs": [
    {
     "name": "stdout",
     "output_type": "stream",
     "text": [
      "List of classes: ['10', '100', '20', '200', '2000', '50', '500']\n"
     ]
    }
   ],
   "source": [
    "# Access the class indices\n",
    "class_indices = train_data.class_indices\n",
    "\n",
    "# Invert the dictionary to get a mapping from indices to class names\n",
    "classes = {v: k for k, v in class_indices.items()}\n",
    "\n",
    "# Get the list of classes sorted by their index\n",
    "sorted_classes = [classes[i] for i in range(len(classes))]\n",
    "\n",
    "# Print the list of classes\n",
    "print(\"List of classes:\", sorted_classes)"
   ]
  },
  {
   "cell_type": "code",
   "execution_count": 8,
   "id": "c9a49f90-9839-46b2-b7c2-b1f52eefdb8f",
   "metadata": {},
   "outputs": [
    {
     "name": "stdout",
     "output_type": "stream",
     "text": [
      "Found 210 images belonging to 7 classes.\n"
     ]
    }
   ],
   "source": [
    "test_data = data_generation.flow_from_directory(\n",
    "    data_directory,\n",
    "    target_size=(height, width),\n",
    "    batch_size=32,\n",
    "    class_mode='categorical',\n",
    "    subset='validation'\n",
    ")"
   ]
  },
  {
   "cell_type": "code",
   "execution_count": 9,
   "id": "6108878e-f28a-4b16-99c6-b50e7e531808",
   "metadata": {},
   "outputs": [],
   "source": [
    "model = Sequential([\n",
    "    Conv2D(32, (3, 3), input_shape=(width, height, 3), activation='relu'),\n",
    "    # BatchNormalization(),\n",
    "    Conv2D(64, (3, 3), activation='relu'),\n",
    "    # BatchNormalization(),\n",
    "    Conv2D(64, (3, 3), activation='relu'),\n",
    "    Conv2D(64, (3, 3), activation='relu'),\n",
    "    MaxPool2D(),\n",
    "    Flatten(),\n",
    "    Dense(128, activation='relu'),\n",
    "    Dropout(0.2),\n",
    "    Dense(7, activation='softmax'),\n",
    "])"
   ]
  },
  {
   "cell_type": "code",
   "execution_count": 10,
   "id": "e494d287-2b6a-4119-bec9-058461b7686e",
   "metadata": {},
   "outputs": [],
   "source": [
    "model.compile(optimizer='adam',loss='categorical_crossentropy',metrics=['accuracy'])"
   ]
  },
  {
   "cell_type": "code",
   "execution_count": 11,
   "id": "638119c8-d94e-44b7-8a13-192872ad5540",
   "metadata": {
    "scrolled": true
   },
   "outputs": [
    {
     "name": "stdout",
     "output_type": "stream",
     "text": [
      "Model: \"sequential\"\n",
      "_________________________________________________________________\n",
      "Layer (type)                 Output Shape              Param #   \n",
      "=================================================================\n",
      "conv2d (Conv2D)              (None, 148, 148, 32)      896       \n",
      "_________________________________________________________________\n",
      "conv2d_1 (Conv2D)            (None, 146, 146, 64)      18496     \n",
      "_________________________________________________________________\n",
      "conv2d_2 (Conv2D)            (None, 144, 144, 64)      36928     \n",
      "_________________________________________________________________\n",
      "conv2d_3 (Conv2D)            (None, 142, 142, 64)      36928     \n",
      "_________________________________________________________________\n",
      "max_pooling2d (MaxPooling2D) (None, 71, 71, 64)        0         \n",
      "_________________________________________________________________\n",
      "flatten (Flatten)            (None, 322624)            0         \n",
      "_________________________________________________________________\n",
      "dense (Dense)                (None, 128)               41296000  \n",
      "_________________________________________________________________\n",
      "dropout (Dropout)            (None, 128)               0         \n",
      "_________________________________________________________________\n",
      "dense_1 (Dense)              (None, 7)                 903       \n",
      "=================================================================\n",
      "Total params: 41,390,151\n",
      "Trainable params: 41,390,151\n",
      "Non-trainable params: 0\n",
      "_________________________________________________________________\n"
     ]
    }
   ],
   "source": [
    "model.summary()"
   ]
  },
  {
   "cell_type": "code",
   "execution_count": 12,
   "id": "748fa636-0f45-4074-b7de-e972e7b0a376",
   "metadata": {},
   "outputs": [],
   "source": [
    "# Define ModelCheckpoint callback to save the best model based on validation accuracy\n",
    "checkpoint = ModelCheckpoint('best_currency_model.h5', monitor='val_accuracy', save_best_only=True, mode='max', verbose=1)"
   ]
  },
  {
   "cell_type": "code",
   "execution_count": 13,
   "id": "6044e684-405a-4b60-9df4-1cbcc18f7dba",
   "metadata": {
    "scrolled": true
   },
   "outputs": [
    {
     "name": "stdout",
     "output_type": "stream",
     "text": [
      "Epoch 1/50\n",
      "26/26 [==============================] - 24s 297ms/step - loss: 2.6987 - accuracy: 0.2129 - val_loss: 1.6818 - val_accuracy: 0.1927\n",
      "\n",
      "Epoch 00001: val_accuracy improved from -inf to 0.19271, saving model to best_currency_model.h5\n",
      "Epoch 2/50\n",
      "26/26 [==============================] - 6s 240ms/step - loss: 1.5098 - accuracy: 0.3639 - val_loss: 1.0082 - val_accuracy: 0.5938\n",
      "\n",
      "Epoch 00002: val_accuracy improved from 0.19271 to 0.59375, saving model to best_currency_model.h5\n",
      "Epoch 3/50\n",
      "26/26 [==============================] - 7s 247ms/step - loss: 0.9035 - accuracy: 0.6559 - val_loss: 0.4565 - val_accuracy: 0.8854\n",
      "\n",
      "Epoch 00003: val_accuracy improved from 0.59375 to 0.88542, saving model to best_currency_model.h5\n",
      "Epoch 4/50\n",
      "26/26 [==============================] - 7s 254ms/step - loss: 0.6198 - accuracy: 0.7710 - val_loss: 0.4286 - val_accuracy: 0.8646\n",
      "\n",
      "Epoch 00004: val_accuracy did not improve from 0.88542\n",
      "Epoch 5/50\n",
      "26/26 [==============================] - 7s 250ms/step - loss: 0.5591 - accuracy: 0.7958 - val_loss: 0.3511 - val_accuracy: 0.8958\n",
      "\n",
      "Epoch 00005: val_accuracy improved from 0.88542 to 0.89583, saving model to best_currency_model.h5\n",
      "Epoch 6/50\n",
      "26/26 [==============================] - 7s 249ms/step - loss: 0.4280 - accuracy: 0.8428 - val_loss: 0.3240 - val_accuracy: 0.9010\n",
      "\n",
      "Epoch 00006: val_accuracy improved from 0.89583 to 0.90104, saving model to best_currency_model.h5\n",
      "Epoch 7/50\n",
      "26/26 [==============================] - 7s 245ms/step - loss: 0.4659 - accuracy: 0.8181 - val_loss: 0.3217 - val_accuracy: 0.8594\n",
      "\n",
      "Epoch 00007: val_accuracy did not improve from 0.90104\n",
      "Epoch 8/50\n",
      "26/26 [==============================] - 7s 253ms/step - loss: 0.3902 - accuracy: 0.8626 - val_loss: 0.4517 - val_accuracy: 0.8802\n",
      "\n",
      "Epoch 00008: val_accuracy did not improve from 0.90104\n",
      "Epoch 9/50\n",
      "26/26 [==============================] - 7s 251ms/step - loss: 0.4708 - accuracy: 0.8391 - val_loss: 0.4582 - val_accuracy: 0.8594\n",
      "\n",
      "Epoch 00009: val_accuracy did not improve from 0.90104\n",
      "Epoch 10/50\n",
      "26/26 [==============================] - 7s 266ms/step - loss: 0.5111 - accuracy: 0.8255 - val_loss: 0.2478 - val_accuracy: 0.9375\n",
      "\n",
      "Epoch 00010: val_accuracy improved from 0.90104 to 0.93750, saving model to best_currency_model.h5\n",
      "Epoch 11/50\n",
      "26/26 [==============================] - 7s 257ms/step - loss: 0.4011 - accuracy: 0.8379 - val_loss: 0.2503 - val_accuracy: 0.8958\n",
      "\n",
      "Epoch 00011: val_accuracy did not improve from 0.93750\n",
      "Epoch 12/50\n",
      "26/26 [==============================] - 7s 276ms/step - loss: 0.3448 - accuracy: 0.8626 - val_loss: 0.3078 - val_accuracy: 0.8906\n",
      "\n",
      "Epoch 00012: val_accuracy did not improve from 0.93750\n",
      "Epoch 13/50\n",
      "26/26 [==============================] - 7s 274ms/step - loss: 0.2775 - accuracy: 0.9134 - val_loss: 0.1159 - val_accuracy: 0.9792\n",
      "\n",
      "Epoch 00013: val_accuracy improved from 0.93750 to 0.97917, saving model to best_currency_model.h5\n",
      "Epoch 14/50\n",
      "26/26 [==============================] - 7s 261ms/step - loss: 0.3113 - accuracy: 0.8874 - val_loss: 0.2118 - val_accuracy: 0.9479\n",
      "\n",
      "Epoch 00014: val_accuracy did not improve from 0.97917\n",
      "Epoch 15/50\n",
      "26/26 [==============================] - 7s 265ms/step - loss: 0.2839 - accuracy: 0.8948 - val_loss: 0.2418 - val_accuracy: 0.9167\n",
      "\n",
      "Epoch 00015: val_accuracy did not improve from 0.97917\n",
      "Epoch 16/50\n",
      "26/26 [==============================] - 7s 271ms/step - loss: 0.3546 - accuracy: 0.8874 - val_loss: 0.2922 - val_accuracy: 0.8698\n",
      "\n",
      "Epoch 00016: val_accuracy did not improve from 0.97917\n",
      "Epoch 17/50\n",
      "26/26 [==============================] - 7s 263ms/step - loss: 0.3994 - accuracy: 0.8639 - val_loss: 0.1754 - val_accuracy: 0.9271\n",
      "\n",
      "Epoch 00017: val_accuracy did not improve from 0.97917\n",
      "Epoch 18/50\n",
      "26/26 [==============================] - 7s 270ms/step - loss: 0.3180 - accuracy: 0.8923 - val_loss: 0.5236 - val_accuracy: 0.8229\n",
      "\n",
      "Epoch 00018: val_accuracy did not improve from 0.97917\n",
      "Epoch 19/50\n",
      "26/26 [==============================] - 7s 269ms/step - loss: 0.2913 - accuracy: 0.8948 - val_loss: 0.2316 - val_accuracy: 0.9167\n",
      "\n",
      "Epoch 00019: val_accuracy did not improve from 0.97917\n",
      "Epoch 20/50\n",
      "26/26 [==============================] - 7s 274ms/step - loss: 0.2947 - accuracy: 0.9047 - val_loss: 0.2547 - val_accuracy: 0.9271\n",
      "\n",
      "Epoch 00020: val_accuracy did not improve from 0.97917\n",
      "Epoch 21/50\n",
      "26/26 [==============================] - 7s 277ms/step - loss: 0.2550 - accuracy: 0.9097 - val_loss: 0.2771 - val_accuracy: 0.8854\n",
      "\n",
      "Epoch 00021: val_accuracy did not improve from 0.97917\n",
      "Epoch 22/50\n",
      "26/26 [==============================] - 8s 286ms/step - loss: 0.3122 - accuracy: 0.8874 - val_loss: 0.1854 - val_accuracy: 0.9323\n",
      "\n",
      "Epoch 00022: val_accuracy did not improve from 0.97917\n",
      "Epoch 23/50\n",
      "26/26 [==============================] - 7s 280ms/step - loss: 0.2850 - accuracy: 0.8911 - val_loss: 0.1756 - val_accuracy: 0.9531\n",
      "\n",
      "Epoch 00023: val_accuracy did not improve from 0.97917\n",
      "Epoch 24/50\n",
      "26/26 [==============================] - 7s 285ms/step - loss: 0.2023 - accuracy: 0.9319 - val_loss: 0.1663 - val_accuracy: 0.9427\n",
      "\n",
      "Epoch 00024: val_accuracy did not improve from 0.97917\n",
      "Epoch 25/50\n",
      "26/26 [==============================] - 7s 273ms/step - loss: 0.1920 - accuracy: 0.9344 - val_loss: 0.2307 - val_accuracy: 0.9271\n",
      "\n",
      "Epoch 00025: val_accuracy did not improve from 0.97917\n",
      "Epoch 26/50\n",
      "26/26 [==============================] - 7s 276ms/step - loss: 0.2700 - accuracy: 0.9084 - val_loss: 0.1723 - val_accuracy: 0.9323\n",
      "\n",
      "Epoch 00026: val_accuracy did not improve from 0.97917\n",
      "Epoch 27/50\n",
      "26/26 [==============================] - 7s 278ms/step - loss: 0.2139 - accuracy: 0.9282 - val_loss: 0.3125 - val_accuracy: 0.9271\n",
      "\n",
      "Epoch 00027: val_accuracy did not improve from 0.97917\n",
      "Epoch 28/50\n",
      "26/26 [==============================] - 7s 284ms/step - loss: 0.2290 - accuracy: 0.9196 - val_loss: 0.0994 - val_accuracy: 0.9635\n",
      "\n",
      "Epoch 00028: val_accuracy did not improve from 0.97917\n",
      "Epoch 29/50\n",
      "26/26 [==============================] - 7s 277ms/step - loss: 0.4797 - accuracy: 0.8366 - val_loss: 0.3026 - val_accuracy: 0.8854\n",
      "\n",
      "Epoch 00029: val_accuracy did not improve from 0.97917\n",
      "Epoch 30/50\n",
      "26/26 [==============================] - 8s 291ms/step - loss: 0.3228 - accuracy: 0.9072 - val_loss: 0.1219 - val_accuracy: 0.9531\n",
      "\n",
      "Epoch 00030: val_accuracy did not improve from 0.97917\n",
      "Epoch 31/50\n",
      "26/26 [==============================] - 7s 281ms/step - loss: 0.2108 - accuracy: 0.9282 - val_loss: 0.2303 - val_accuracy: 0.9115\n",
      "\n",
      "Epoch 00031: val_accuracy did not improve from 0.97917\n",
      "Epoch 32/50\n",
      "26/26 [==============================] - 8s 288ms/step - loss: 0.1715 - accuracy: 0.9493 - val_loss: 0.1378 - val_accuracy: 0.9740\n",
      "\n",
      "Epoch 00032: val_accuracy did not improve from 0.97917\n",
      "Epoch 33/50\n",
      "26/26 [==============================] - 7s 280ms/step - loss: 0.1396 - accuracy: 0.9505 - val_loss: 0.1276 - val_accuracy: 0.9479\n",
      "\n",
      "Epoch 00033: val_accuracy did not improve from 0.97917\n",
      "Epoch 34/50\n",
      "26/26 [==============================] - 7s 283ms/step - loss: 0.1829 - accuracy: 0.9394 - val_loss: 0.2173 - val_accuracy: 0.9583\n",
      "\n",
      "Epoch 00034: val_accuracy did not improve from 0.97917\n",
      "Epoch 35/50\n",
      "26/26 [==============================] - 7s 280ms/step - loss: 0.1964 - accuracy: 0.9319 - val_loss: 0.2247 - val_accuracy: 0.9583\n",
      "\n",
      "Epoch 00035: val_accuracy did not improve from 0.97917\n",
      "Epoch 36/50\n",
      "26/26 [==============================] - 7s 286ms/step - loss: 0.2313 - accuracy: 0.9245 - val_loss: 0.2231 - val_accuracy: 0.9583\n",
      "\n",
      "Epoch 00036: val_accuracy did not improve from 0.97917\n",
      "Epoch 37/50\n",
      "26/26 [==============================] - 7s 284ms/step - loss: 0.1502 - accuracy: 0.9443 - val_loss: 0.3503 - val_accuracy: 0.8958\n",
      "\n",
      "Epoch 00037: val_accuracy did not improve from 0.97917\n",
      "Epoch 38/50\n",
      "26/26 [==============================] - 8s 292ms/step - loss: 0.6010 - accuracy: 0.8181 - val_loss: 0.4662 - val_accuracy: 0.8438\n",
      "\n",
      "Epoch 00038: val_accuracy did not improve from 0.97917\n",
      "Epoch 39/50\n",
      "26/26 [==============================] - 8s 298ms/step - loss: 0.2291 - accuracy: 0.9270 - val_loss: 0.2150 - val_accuracy: 0.9479\n",
      "\n",
      "Epoch 00039: val_accuracy did not improve from 0.97917\n",
      "Epoch 40/50\n",
      "26/26 [==============================] - 8s 287ms/step - loss: 0.2013 - accuracy: 0.9245 - val_loss: 0.1959 - val_accuracy: 0.9583\n",
      "\n",
      "Epoch 00040: val_accuracy did not improve from 0.97917\n",
      "Epoch 41/50\n",
      "26/26 [==============================] - 8s 286ms/step - loss: 0.2131 - accuracy: 0.9257 - val_loss: 0.3587 - val_accuracy: 0.9375\n",
      "\n",
      "Epoch 00041: val_accuracy did not improve from 0.97917\n",
      "Epoch 42/50\n",
      "26/26 [==============================] - 8s 297ms/step - loss: 0.2782 - accuracy: 0.8886 - val_loss: 0.2327 - val_accuracy: 0.9271\n",
      "\n",
      "Epoch 00042: val_accuracy did not improve from 0.97917\n",
      "Epoch 43/50\n",
      "26/26 [==============================] - 7s 284ms/step - loss: 0.2138 - accuracy: 0.9196 - val_loss: 0.0554 - val_accuracy: 0.9948\n",
      "\n",
      "Epoch 00043: val_accuracy improved from 0.97917 to 0.99479, saving model to best_currency_model.h5\n",
      "Epoch 44/50\n",
      "26/26 [==============================] - 8s 292ms/step - loss: 0.4555 - accuracy: 0.8824 - val_loss: 0.3377 - val_accuracy: 0.9062\n",
      "\n",
      "Epoch 00044: val_accuracy did not improve from 0.99479\n",
      "Epoch 45/50\n",
      "26/26 [==============================] - 7s 285ms/step - loss: 0.2302 - accuracy: 0.9196 - val_loss: 0.4025 - val_accuracy: 0.9219\n",
      "\n",
      "Epoch 00045: val_accuracy did not improve from 0.99479\n",
      "Epoch 46/50\n",
      "26/26 [==============================] - 8s 288ms/step - loss: 0.1481 - accuracy: 0.9493 - val_loss: 0.1643 - val_accuracy: 0.9792\n",
      "\n",
      "Epoch 00046: val_accuracy did not improve from 0.99479\n",
      "Epoch 47/50\n",
      "26/26 [==============================] - 7s 282ms/step - loss: 0.1196 - accuracy: 0.9616 - val_loss: 0.2263 - val_accuracy: 0.9479\n",
      "\n",
      "Epoch 00047: val_accuracy did not improve from 0.99479\n",
      "Epoch 48/50\n",
      "26/26 [==============================] - 8s 294ms/step - loss: 0.1489 - accuracy: 0.9480 - val_loss: 0.0607 - val_accuracy: 0.9948\n",
      "\n",
      "Epoch 00048: val_accuracy did not improve from 0.99479\n",
      "Epoch 49/50\n",
      "26/26 [==============================] - 8s 313ms/step - loss: 0.2568 - accuracy: 0.9208 - val_loss: 0.4366 - val_accuracy: 0.9427\n",
      "\n",
      "Epoch 00049: val_accuracy did not improve from 0.99479\n",
      "Epoch 50/50\n",
      "26/26 [==============================] - 9s 332ms/step - loss: 0.1647 - accuracy: 0.9468 - val_loss: 0.3147 - val_accuracy: 0.9688\n",
      "\n",
      "Epoch 00050: val_accuracy did not improve from 0.99479\n"
     ]
    }
   ],
   "source": [
    "history = model.fit(\n",
    "    train_data,\n",
    "    steps_per_epoch=train_data.samples // train_data.batch_size,\n",
    "    validation_data=test_data,\n",
    "    validation_steps=test_data.samples // test_data.batch_size,\n",
    "    epochs=50,\n",
    "    callbacks=[checkpoint],\n",
    "    verbose=1,\n",
    ")"
   ]
  },
  {
   "cell_type": "code",
   "execution_count": 14,
   "id": "614d19d9-70b7-4a49-b7c0-b8ff6dbd8559",
   "metadata": {},
   "outputs": [],
   "source": [
    "# model.save('currency_model_updated_With_best.h5')"
   ]
  },
  {
   "cell_type": "code",
   "execution_count": 15,
   "id": "6a7ed619-878c-4d51-a740-8f975b68797e",
   "metadata": {},
   "outputs": [],
   "source": [
    "# Evaluate the model on the test data\n",
    "test_datagen = ImageDataGenerator(rescale=1./255)"
   ]
  },
  {
   "cell_type": "code",
   "execution_count": 17,
   "id": "23c46cbb-7a67-4cb9-ace5-93349b36cc1e",
   "metadata": {},
   "outputs": [],
   "source": [
    "from tensorflow.keras.models import load_model\n",
    "\n",
    "# Load the saved model\n",
    "model = load_model('best_currency_model.h5')"
   ]
  },
  {
   "cell_type": "code",
   "execution_count": 18,
   "id": "ebaf3a7d-3ab2-4785-8194-a21a1282cdc1",
   "metadata": {},
   "outputs": [],
   "source": [
    "from tensorflow.keras.preprocessing.image import load_img, img_to_array\n",
    "import numpy as np\n",
    "\n",
    "# Load the image from file\n",
    "img_path = r'image.webp'  # Replace with your image path\n",
    "img = load_img(img_path, target_size=(150, 150))  # Load image and resize to 150x150 pixels\n",
    "img_array = img_to_array(img)  # Convert image to numpy array\n",
    "img_array = np.expand_dims(img_array, axis=0)  # Expand dimensions to create batch size of 1\n",
    "img_array /= 255.0  # Rescale pixel values to [0, 1]"
   ]
  },
  {
   "cell_type": "code",
   "execution_count": 19,
   "id": "621789f9-da9b-489a-a64b-7d5935e1f178",
   "metadata": {},
   "outputs": [],
   "source": [
    "# Predict the class probabilities\n",
    "predictions = model.predict(img_array)"
   ]
  },
  {
   "cell_type": "code",
   "execution_count": 20,
   "id": "d911f9ad-58e1-4fd2-bb3b-1f9880274927",
   "metadata": {},
   "outputs": [
    {
     "name": "stdout",
     "output_type": "stream",
     "text": [
      "[[0.   0.99 0.   0.   0.   0.   0.  ]]\n"
     ]
    }
   ],
   "source": [
    "print(np.round(predictions,2))"
   ]
  },
  {
   "cell_type": "code",
   "execution_count": 21,
   "id": "c309afbb-84b5-4e8f-b8db-ee90b7baa572",
   "metadata": {},
   "outputs": [
    {
     "data": {
      "text/plain": [
       "array([0, 0, 0, 0, 0, 0, 0], dtype=int64)"
      ]
     },
     "execution_count": 21,
     "metadata": {},
     "output_type": "execute_result"
    }
   ],
   "source": [
    "np.argmax(predictions,axis=0)"
   ]
  },
  {
   "cell_type": "code",
   "execution_count": 22,
   "id": "1ee19646-50c5-4b02-9d60-b31b68e211bd",
   "metadata": {},
   "outputs": [
    {
     "data": {
      "image/png": "[encoded data removed]",
      "text/plain": [
       "<Figure size 640x480 with 1 Axes>"
      ]
     },
     "metadata": {},
     "output_type": "display_data"
    }
   ],
   "source": [
    "plt.plot(history.history['accuracy'])\n",
    "plt.plot(history.history['val_accuracy'])\n",
    "plt.show()"
   ]
  },
  {
   "cell_type": "code",
   "execution_count": 23,
   "id": "02d81f6d-f021-4f14-a112-f063f9ed9fab",
   "metadata": {
    "scrolled": true
   },
   "outputs": [
    {
     "data": {
      "image/png": "[encoded data removed]",
      "text/plain": [
       "<Figure size 640x480 with 1 Axes>"
      ]
     },
     "metadata": {},
     "output_type": "display_data"
    }
   ],
   "source": [
    "plt.plot(history.history['loss'])\n",
    "plt.plot(history.history['val_loss'])\n",
    "plt.show()"
   ]
  },
  {
   "cell_type": "markdown",
   "id": "c7566437-ca44-418c-9c9d-20f216aede0d",
   "metadata": {},
   "source": [
    "### Evaluate the model"
   ]
  },
  {
   "cell_type": "code",
   "execution_count": 24,
   "id": "a4e10eb5-0ebe-4eb4-b420-f5c62c6c3aad",
   "metadata": {},
   "outputs": [
    {
     "name": "stdout",
     "output_type": "stream",
     "text": [
      "7/7 [==============================] - 2s 240ms/step - loss: 0.1519 - accuracy: 0.9571\n",
      "Test Accuracy: 95.71%\n"
     ]
    }
   ],
   "source": [
    "loss, accuracy = model.evaluate(test_data)\n",
    "print(f\"Test Accuracy: {accuracy * 100:.2f}%\")"
   ]
  },
  {
   "cell_type": "markdown",
   "id": "c6c0d8a4-aaf9-4125-955b-a8368e4ed41e",
   "metadata": {},
   "source": [
    "### Confusion Matrix"
   ]
  },
  {
   "cell_type": "code",
   "execution_count": 26,
   "id": "1731a165-8ee2-428b-beda-f89e78c275ac",
   "metadata": {},
   "outputs": [],
   "source": [
    "# Get the true labels and the predicted labels\n",
    "test_data.reset()  # Reset the generator to make predictions from the start\n",
    "predictions = model.predict(test_data)\n",
    "predicted_classes = np.argmax(predictions, axis=1)\n",
    "true_classes = test_data.classes"
   ]
  },
  {
   "cell_type": "code",
   "execution_count": 27,
   "id": "eabb788b-48ab-4315-8e1c-4d0a7d8a8cee",
   "metadata": {},
   "outputs": [],
   "source": [
    "# Get the class labels\n",
    "class_labels = list(test_data.class_indices.keys())"
   ]
  },
  {
   "cell_type": "code",
   "execution_count": 28,
   "id": "54dbbd20-23df-49d5-a9aa-dd38fea7d3e8",
   "metadata": {},
   "outputs": [],
   "source": [
    "# Generate confusion matrix\n",
    "conf_matrix = confusion_matrix(true_classes, predicted_classes)"
   ]
  },
  {
   "cell_type": "code",
   "execution_count": 29,
   "id": "57162e4c-6bb4-40b3-b239-4c28c5393462",
   "metadata": {},
   "outputs": [
    {
     "data": {
      "image/png": "[encoded data removed]",
      "text/plain": [
       "<Figure size 1000x800 with 2 Axes>"
      ]
     },
     "metadata": {},
     "output_type": "display_data"
    }
   ],
   "source": [
    "# Plot confusion matrix\n",
    "plt.figure(figsize=(10, 8))\n",
    "sns.heatmap(conf_matrix, annot=True, fmt='d', cmap='Blues', xticklabels=class_labels, yticklabels=class_labels)\n",
    "plt.ylabel('Actual')\n",
    "plt.xlabel('Predicted')\n",
    "plt.title('Confusion Matrix')\n",
    "plt.show()"
   ]
  },
  {
   "cell_type": "code",
   "execution_count": 30,
   "id": "8c5c3602-4bcb-4a69-b695-4bb920463638",
   "metadata": {},
   "outputs": [
    {
     "name": "stdout",
     "output_type": "stream",
     "text": [
      "              precision    recall  f1-score   support\n",
      "\n",
      "          10       0.11      0.10      0.11        30\n",
      "         100       0.19      0.20      0.20        30\n",
      "          20       0.22      0.20      0.21        30\n",
      "         200       0.14      0.17      0.15        30\n",
      "        2000       0.07      0.07      0.07        30\n",
      "          50       0.14      0.13      0.14        30\n",
      "         500       0.26      0.27      0.26        30\n",
      "\n",
      "    accuracy                           0.16       210\n",
      "   macro avg       0.16      0.16      0.16       210\n",
      "weighted avg       0.16      0.16      0.16       210\n",
      "\n"
     ]
    }
   ],
   "source": [
    "# Print classification report\n",
    "print(classification_report(true_classes, predicted_classes, target_names=class_labels))"
   ]
  },
  {
   "cell_type": "code",
   "execution_count": null,
   "id": "1a51501e-c11c-45b6-bbbe-65f74615f33b",
   "metadata": {},
   "outputs": [],
   "source": []
  }
 ],
 "metadata": {
  "kernelspec": {
   "display_name": "Python 3 (ipykernel)",
   "language": "python",
   "name": "python3"
  },
  "language_info": {
   "codemirror_mode": {
    "name": "ipython",
    "version": 3
   },
   "file_extension": ".py",
   "mimetype": "text/x-python",
   "name": "python",
   "nbconvert_exporter": "python",
   "pygments_lexer": "ipython3",
   "version": "3.9.18"
  }
 },
 "nbformat": 4,
 "nbformat_minor": 5
}
